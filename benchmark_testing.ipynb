{
 "cells": [
  {
   "cell_type": "code",
   "execution_count": 1,
   "metadata": {},
   "outputs": [],
   "source": [
    "import pandas as pd\n",
    "import numpy as np\n",
    "import warnings\n",
    "import time\n",
    "import matplotlib.pyplot as plt\n",
    "import seaborn as sns\n",
    "warnings.filterwarnings('ignore')"
   ]
  },
  {
   "cell_type": "markdown",
   "metadata": {},
   "source": [
    "### Functions"
   ]
  },
  {
   "cell_type": "code",
   "execution_count": 2,
   "metadata": {},
   "outputs": [],
   "source": [
    "def get_min(x,xx):\n",
    "    df22 = x[x.Month == xx]\n",
    "    ff = df22.loc[df22['Return_Value'].idxmin()]\n",
    "    print('Start Date:', ff[0])\n",
    "    print('End Date:', ff[2])\n",
    "    print('Return:',ff[4])\n",
    "    \n",
    "def get_max(x,xx):\n",
    "    df22 = x[x.Month == xx]\n",
    "    ff = df22.loc[df22['Return_Value'].idxmax()]\n",
    "    print('Start Date:', ff[0])\n",
    "    print('End Date:', ff[2])\n",
    "    print('Return:',ff[4])\n",
    "    \n",
    "def top_return(x,xx,y):\n",
    "    df44 = x[x['Month'] == xx]\n",
    "    top = df44.nlargest(y, 'Return_Value')\n",
    "    top2 = top[['Start_date', 'Date', 'Return_Value']]\n",
    "    top2.rename({'Date':'End_date'}, inplace = True, axis = 1)\n",
    "    print(top2.to_string(index=False))\n",
    "    \n",
    "def bottom_return(x,xx,y):\n",
    "    df44 = x[x['Month'] == xx]\n",
    "    top = df44.nsmallest(y, 'Return_Value')\n",
    "    top2 = top[['Start_date', 'Date', 'Return_Value']]\n",
    "    top2.rename({'Date':'End_date'}, inplace = True, axis = 1)\n",
    "    print(top2.to_string(index=False))\n",
    "    "
   ]
  },
  {
   "cell_type": "markdown",
   "metadata": {},
   "source": [
    "### Load Index Data"
   ]
  },
  {
   "cell_type": "code",
   "execution_count": 3,
   "metadata": {},
   "outputs": [
    {
     "data": {
      "text/html": [
       "<div>\n",
       "<style scoped>\n",
       "    .dataframe tbody tr th:only-of-type {\n",
       "        vertical-align: middle;\n",
       "    }\n",
       "\n",
       "    .dataframe tbody tr th {\n",
       "        vertical-align: top;\n",
       "    }\n",
       "\n",
       "    .dataframe thead th {\n",
       "        text-align: right;\n",
       "    }\n",
       "</style>\n",
       "<table border=\"1\" class=\"dataframe\">\n",
       "  <thead>\n",
       "    <tr style=\"text-align: right;\">\n",
       "      <th></th>\n",
       "      <th>Date</th>\n",
       "      <th>SP_price</th>\n",
       "      <th>S&amp;P</th>\n",
       "      <th>HS_price</th>\n",
       "      <th>HS</th>\n",
       "      <th>Gold_price</th>\n",
       "      <th>Gold</th>\n",
       "      <th>FTSE_price</th>\n",
       "      <th>FTSE</th>\n",
       "      <th>DJ_price</th>\n",
       "      <th>DJ</th>\n",
       "      <th>AGG_price</th>\n",
       "      <th>AGG</th>\n",
       "      <th>diff_10_2</th>\n",
       "      <th>CPI_PCH</th>\n",
       "    </tr>\n",
       "  </thead>\n",
       "  <tbody>\n",
       "    <tr>\n",
       "      <td>0</td>\n",
       "      <td>1983-12-30</td>\n",
       "      <td>164.93</td>\n",
       "      <td>NaN</td>\n",
       "      <td>874.94</td>\n",
       "      <td>NaN</td>\n",
       "      <td>382.40</td>\n",
       "      <td>NaN</td>\n",
       "      <td>1000.0</td>\n",
       "      <td>NaN</td>\n",
       "      <td>1258.64</td>\n",
       "      <td>NaN</td>\n",
       "      <td>193.04</td>\n",
       "      <td>NaN</td>\n",
       "      <td>1.03</td>\n",
       "      <td>0.006903</td>\n",
       "    </tr>\n",
       "    <tr>\n",
       "      <td>1</td>\n",
       "      <td>1984-01-31</td>\n",
       "      <td>163.41</td>\n",
       "      <td>-0.009216</td>\n",
       "      <td>1102.38</td>\n",
       "      <td>0.259949</td>\n",
       "      <td>373.75</td>\n",
       "      <td>-0.02262</td>\n",
       "      <td>1063.0</td>\n",
       "      <td>0.063</td>\n",
       "      <td>1220.58</td>\n",
       "      <td>-0.030239</td>\n",
       "      <td>197.02</td>\n",
       "      <td>0.020617</td>\n",
       "      <td>1.05</td>\n",
       "      <td>0.004897</td>\n",
       "    </tr>\n",
       "  </tbody>\n",
       "</table>\n",
       "</div>"
      ],
      "text/plain": [
       "        Date  SP_price       S&P  HS_price        HS  Gold_price     Gold  \\\n",
       "0 1983-12-30    164.93       NaN    874.94       NaN      382.40      NaN   \n",
       "1 1984-01-31    163.41 -0.009216   1102.38  0.259949      373.75 -0.02262   \n",
       "\n",
       "   FTSE_price   FTSE  DJ_price        DJ  AGG_price       AGG  diff_10_2  \\\n",
       "0      1000.0    NaN   1258.64       NaN     193.04       NaN       1.03   \n",
       "1      1063.0  0.063   1220.58 -0.030239     197.02  0.020617       1.05   \n",
       "\n",
       "    CPI_PCH  \n",
       "0  0.006903  \n",
       "1  0.004897  "
      ]
     },
     "execution_count": 3,
     "metadata": {},
     "output_type": "execute_result"
    }
   ],
   "source": [
    "df = pd.read_csv('data_for_test.csv')\n",
    "df.drop('Unnamed: 0', inplace = True, axis = 1)\n",
    "df['Date'] = pd.to_datetime(df['Date'], format=\"%m/%d/%y\")\n",
    "df.head(2)"
   ]
  },
  {
   "cell_type": "markdown",
   "metadata": {},
   "source": [
    "### Load Allication data"
   ]
  },
  {
   "cell_type": "code",
   "execution_count": 4,
   "metadata": {},
   "outputs": [
    {
     "data": {
      "text/html": [
       "<div>\n",
       "<style scoped>\n",
       "    .dataframe tbody tr th:only-of-type {\n",
       "        vertical-align: middle;\n",
       "    }\n",
       "\n",
       "    .dataframe tbody tr th {\n",
       "        vertical-align: top;\n",
       "    }\n",
       "\n",
       "    .dataframe thead th {\n",
       "        text-align: right;\n",
       "    }\n",
       "</style>\n",
       "<table border=\"1\" class=\"dataframe\">\n",
       "  <thead>\n",
       "    <tr style=\"text-align: right;\">\n",
       "      <th></th>\n",
       "      <th>1</th>\n",
       "      <th>2</th>\n",
       "      <th>3</th>\n",
       "      <th>4</th>\n",
       "      <th>5</th>\n",
       "      <th>6</th>\n",
       "      <th>7</th>\n",
       "      <th>8</th>\n",
       "      <th>9</th>\n",
       "      <th>10</th>\n",
       "      <th>...</th>\n",
       "      <th>111</th>\n",
       "      <th>112</th>\n",
       "      <th>113</th>\n",
       "      <th>114</th>\n",
       "      <th>115</th>\n",
       "      <th>116</th>\n",
       "      <th>117</th>\n",
       "      <th>118</th>\n",
       "      <th>119</th>\n",
       "      <th>120</th>\n",
       "    </tr>\n",
       "    <tr>\n",
       "      <th>Index</th>\n",
       "      <th></th>\n",
       "      <th></th>\n",
       "      <th></th>\n",
       "      <th></th>\n",
       "      <th></th>\n",
       "      <th></th>\n",
       "      <th></th>\n",
       "      <th></th>\n",
       "      <th></th>\n",
       "      <th></th>\n",
       "      <th></th>\n",
       "      <th></th>\n",
       "      <th></th>\n",
       "      <th></th>\n",
       "      <th></th>\n",
       "      <th></th>\n",
       "      <th></th>\n",
       "      <th></th>\n",
       "      <th></th>\n",
       "      <th></th>\n",
       "      <th></th>\n",
       "    </tr>\n",
       "  </thead>\n",
       "  <tbody>\n",
       "    <tr>\n",
       "      <td>SP</td>\n",
       "      <td>0.175</td>\n",
       "      <td>0.1744</td>\n",
       "      <td>0.1738</td>\n",
       "      <td>0.1733</td>\n",
       "      <td>0.1727</td>\n",
       "      <td>0.1721</td>\n",
       "      <td>0.1715</td>\n",
       "      <td>0.1709</td>\n",
       "      <td>0.1703</td>\n",
       "      <td>0.1698</td>\n",
       "      <td>...</td>\n",
       "      <td>0.1067</td>\n",
       "      <td>0.106</td>\n",
       "      <td>0.1053</td>\n",
       "      <td>0.1047</td>\n",
       "      <td>0.104</td>\n",
       "      <td>0.1033</td>\n",
       "      <td>0.1027</td>\n",
       "      <td>0.102</td>\n",
       "      <td>0.1013</td>\n",
       "      <td>0.1007</td>\n",
       "    </tr>\n",
       "    <tr>\n",
       "      <td>DJ</td>\n",
       "      <td>0.175</td>\n",
       "      <td>0.1744</td>\n",
       "      <td>0.1738</td>\n",
       "      <td>0.1733</td>\n",
       "      <td>0.1727</td>\n",
       "      <td>0.1721</td>\n",
       "      <td>0.1715</td>\n",
       "      <td>0.1709</td>\n",
       "      <td>0.1703</td>\n",
       "      <td>0.1698</td>\n",
       "      <td>...</td>\n",
       "      <td>0.1067</td>\n",
       "      <td>0.106</td>\n",
       "      <td>0.1053</td>\n",
       "      <td>0.1047</td>\n",
       "      <td>0.104</td>\n",
       "      <td>0.1033</td>\n",
       "      <td>0.1027</td>\n",
       "      <td>0.102</td>\n",
       "      <td>0.1013</td>\n",
       "      <td>0.1007</td>\n",
       "    </tr>\n",
       "  </tbody>\n",
       "</table>\n",
       "<p>2 rows × 120 columns</p>\n",
       "</div>"
      ],
      "text/plain": [
       "           1       2       3       4       5       6       7       8       9  \\\n",
       "Index                                                                          \n",
       "SP     0.175  0.1744  0.1738  0.1733  0.1727  0.1721  0.1715  0.1709  0.1703   \n",
       "DJ     0.175  0.1744  0.1738  0.1733  0.1727  0.1721  0.1715  0.1709  0.1703   \n",
       "\n",
       "           10  ...     111    112     113     114    115     116     117  \\\n",
       "Index          ...                                                         \n",
       "SP     0.1698  ...  0.1067  0.106  0.1053  0.1047  0.104  0.1033  0.1027   \n",
       "DJ     0.1698  ...  0.1067  0.106  0.1053  0.1047  0.104  0.1033  0.1027   \n",
       "\n",
       "         118     119     120  \n",
       "Index                         \n",
       "SP     0.102  0.1013  0.1007  \n",
       "DJ     0.102  0.1013  0.1007  \n",
       "\n",
       "[2 rows x 120 columns]"
      ]
     },
     "execution_count": 4,
     "metadata": {},
     "output_type": "execute_result"
    }
   ],
   "source": [
    "df2 = pd.read_csv('index_al.csv').set_index('Index')\n",
    "df2.head(2)"
   ]
  },
  {
   "cell_type": "code",
   "execution_count": 5,
   "metadata": {},
   "outputs": [
    {
     "data": {
      "text/html": [
       "<div>\n",
       "<style scoped>\n",
       "    .dataframe tbody tr th:only-of-type {\n",
       "        vertical-align: middle;\n",
       "    }\n",
       "\n",
       "    .dataframe tbody tr th {\n",
       "        vertical-align: top;\n",
       "    }\n",
       "\n",
       "    .dataframe thead th {\n",
       "        text-align: right;\n",
       "    }\n",
       "</style>\n",
       "<table border=\"1\" class=\"dataframe\">\n",
       "  <thead>\n",
       "    <tr style=\"text-align: right;\">\n",
       "      <th></th>\n",
       "      <th>Date</th>\n",
       "      <th>S&amp;P</th>\n",
       "      <th>HS</th>\n",
       "      <th>Gold</th>\n",
       "      <th>FTSE</th>\n",
       "      <th>DJ</th>\n",
       "      <th>AGG</th>\n",
       "      <th>CPI_PCH</th>\n",
       "    </tr>\n",
       "  </thead>\n",
       "  <tbody>\n",
       "    <tr>\n",
       "      <td>424</td>\n",
       "      <td>2019-04-30</td>\n",
       "      <td>0.039313</td>\n",
       "      <td>0.022297</td>\n",
       "      <td>-0.010113</td>\n",
       "      <td>0.019100</td>\n",
       "      <td>0.025618</td>\n",
       "      <td>0.000256</td>\n",
       "      <td>0.000773</td>\n",
       "    </tr>\n",
       "    <tr>\n",
       "      <td>425</td>\n",
       "      <td>2019-05-31</td>\n",
       "      <td>-0.065778</td>\n",
       "      <td>-0.094212</td>\n",
       "      <td>0.010333</td>\n",
       "      <td>-0.034578</td>\n",
       "      <td>-0.066855</td>\n",
       "      <td>0.017752</td>\n",
       "      <td>0.000588</td>\n",
       "    </tr>\n",
       "    <tr>\n",
       "      <td>426</td>\n",
       "      <td>2019-06-28</td>\n",
       "      <td>0.068930</td>\n",
       "      <td>0.061021</td>\n",
       "      <td>0.087569</td>\n",
       "      <td>0.036852</td>\n",
       "      <td>0.071929</td>\n",
       "      <td>0.012556</td>\n",
       "      <td>0.003353</td>\n",
       "    </tr>\n",
       "    <tr>\n",
       "      <td>427</td>\n",
       "      <td>2019-07-31</td>\n",
       "      <td>0.013128</td>\n",
       "      <td>-0.026797</td>\n",
       "      <td>0.013165</td>\n",
       "      <td>0.021702</td>\n",
       "      <td>0.009936</td>\n",
       "      <td>0.002201</td>\n",
       "      <td>0.000543</td>\n",
       "    </tr>\n",
       "    <tr>\n",
       "      <td>428</td>\n",
       "      <td>2019-08-30</td>\n",
       "      <td>-0.018092</td>\n",
       "      <td>-0.073909</td>\n",
       "      <td>0.070646</td>\n",
       "      <td>-0.050034</td>\n",
       "      <td>-0.017160</td>\n",
       "      <td>0.025913</td>\n",
       "      <td>0.000226</td>\n",
       "    </tr>\n",
       "  </tbody>\n",
       "</table>\n",
       "</div>"
      ],
      "text/plain": [
       "          Date       S&P        HS      Gold      FTSE        DJ       AGG  \\\n",
       "424 2019-04-30  0.039313  0.022297 -0.010113  0.019100  0.025618  0.000256   \n",
       "425 2019-05-31 -0.065778 -0.094212  0.010333 -0.034578 -0.066855  0.017752   \n",
       "426 2019-06-28  0.068930  0.061021  0.087569  0.036852  0.071929  0.012556   \n",
       "427 2019-07-31  0.013128 -0.026797  0.013165  0.021702  0.009936  0.002201   \n",
       "428 2019-08-30 -0.018092 -0.073909  0.070646 -0.050034 -0.017160  0.025913   \n",
       "\n",
       "      CPI_PCH  \n",
       "424  0.000773  \n",
       "425  0.000588  \n",
       "426  0.003353  \n",
       "427  0.000543  \n",
       "428  0.000226  "
      ]
     },
     "execution_count": 5,
     "metadata": {},
     "output_type": "execute_result"
    }
   ],
   "source": [
    "ch = df[['Date', 'S&P', 'HS','Gold', 'FTSE', 'DJ', 'AGG', 'CPI_PCH']]\n",
    "ch.tail()"
   ]
  },
  {
   "cell_type": "markdown",
   "metadata": {},
   "source": [
    "### 120 Months 60-70"
   ]
  },
  {
   "cell_type": "code",
   "execution_count": 6,
   "metadata": {},
   "outputs": [
    {
     "name": "stdout",
     "output_type": "stream",
     "text": [
      "1983-12-30\n",
      "1984-01-31\n",
      "1984-02-29\n",
      "1984-03-30\n",
      "1984-04-30\n",
      "1984-05-31\n",
      "1984-06-29\n",
      "1984-07-31\n",
      "1984-08-31\n",
      "1984-09-28\n",
      "1984-10-31\n",
      "1984-11-30\n",
      "1984-12-31\n",
      "1985-01-31\n",
      "1985-02-28\n",
      "1985-03-29\n",
      "1985-04-30\n",
      "1985-05-31\n",
      "1985-06-28\n",
      "1985-07-31\n",
      "1985-08-30\n",
      "1985-09-30\n",
      "1985-10-31\n",
      "1985-11-29\n",
      "1985-12-31\n",
      "1986-01-31\n",
      "1986-02-28\n",
      "1986-03-31\n",
      "1986-04-30\n",
      "1986-05-30\n",
      "1986-06-30\n",
      "1986-07-31\n",
      "1986-08-29\n",
      "1986-09-30\n",
      "1986-10-31\n",
      "1986-11-28\n",
      "1986-12-31\n"
     ]
    },
    {
     "ename": "KeyboardInterrupt",
     "evalue": "",
     "output_type": "error",
     "traceback": [
      "\u001b[1;31m---------------------------------------------------------------------------\u001b[0m",
      "\u001b[1;31mKeyboardInterrupt\u001b[0m                         Traceback (most recent call last)",
      "\u001b[1;32m<ipython-input-6-9073f136ffc6>\u001b[0m in \u001b[0;36m<module>\u001b[1;34m\u001b[0m\n\u001b[0;32m     40\u001b[0m         \u001b[0msv\u001b[0m \u001b[1;33m=\u001b[0m \u001b[0mround\u001b[0m\u001b[1;33m(\u001b[0m\u001b[0msum\u001b[0m\u001b[1;33m(\u001b[0m\u001b[1;33m[\u001b[0m\u001b[0magg_cash\u001b[0m\u001b[1;33m,\u001b[0m \u001b[0mdj_cash\u001b[0m\u001b[1;33m,\u001b[0m \u001b[0mft_cash\u001b[0m\u001b[1;33m,\u001b[0m \u001b[0mgold_cash\u001b[0m\u001b[1;33m,\u001b[0m \u001b[0mhs_cash\u001b[0m\u001b[1;33m,\u001b[0m \u001b[0msp500_cash\u001b[0m\u001b[1;33m]\u001b[0m\u001b[1;33m)\u001b[0m\u001b[1;33m,\u001b[0m\u001b[1;36m2\u001b[0m\u001b[1;33m)\u001b[0m\u001b[1;33m\u001b[0m\u001b[1;33m\u001b[0m\u001b[0m\n\u001b[0;32m     41\u001b[0m         \u001b[0mmm\u001b[0m \u001b[1;33m=\u001b[0m \u001b[1;34m'Month '\u001b[0m \u001b[1;33m+\u001b[0m \u001b[0mstr\u001b[0m\u001b[1;33m(\u001b[0m\u001b[0mi\u001b[0m\u001b[1;33m)\u001b[0m\u001b[1;33m\u001b[0m\u001b[1;33m\u001b[0m\u001b[0m\n\u001b[1;32m---> 42\u001b[1;33m         \u001b[0mdata\u001b[0m \u001b[1;33m=\u001b[0m \u001b[0mdata\u001b[0m\u001b[1;33m.\u001b[0m\u001b[0mappend\u001b[0m\u001b[1;33m(\u001b[0m\u001b[1;33m{\u001b[0m\u001b[1;34m'Start_date'\u001b[0m\u001b[1;33m:\u001b[0m\u001b[0msd\u001b[0m\u001b[1;33m,\u001b[0m\u001b[1;34m'Month'\u001b[0m\u001b[1;33m:\u001b[0m\u001b[0mmm\u001b[0m\u001b[1;33m,\u001b[0m \u001b[1;34m'Date'\u001b[0m\u001b[1;33m:\u001b[0m \u001b[0mdt\u001b[0m\u001b[1;33m,\u001b[0m \u001b[1;34m'Start_Value'\u001b[0m\u001b[1;33m:\u001b[0m\u001b[0msv2\u001b[0m\u001b[1;33m,\u001b[0m \u001b[1;34m'Return_Value'\u001b[0m\u001b[1;33m:\u001b[0m \u001b[0msv\u001b[0m \u001b[1;33m}\u001b[0m\u001b[1;33m,\u001b[0m\u001b[0mignore_index\u001b[0m \u001b[1;33m=\u001b[0m \u001b[1;32mTrue\u001b[0m\u001b[1;33m)\u001b[0m\u001b[1;33m\u001b[0m\u001b[1;33m\u001b[0m\u001b[0m\n\u001b[0m",
      "\u001b[1;32m~\\Anaconda3\\lib\\site-packages\\pandas\\core\\frame.py\u001b[0m in \u001b[0;36mappend\u001b[1;34m(self, other, ignore_index, verify_integrity, sort)\u001b[0m\n\u001b[0;32m   7121\u001b[0m             \u001b[0mignore_index\u001b[0m\u001b[1;33m=\u001b[0m\u001b[0mignore_index\u001b[0m\u001b[1;33m,\u001b[0m\u001b[1;33m\u001b[0m\u001b[1;33m\u001b[0m\u001b[0m\n\u001b[0;32m   7122\u001b[0m             \u001b[0mverify_integrity\u001b[0m\u001b[1;33m=\u001b[0m\u001b[0mverify_integrity\u001b[0m\u001b[1;33m,\u001b[0m\u001b[1;33m\u001b[0m\u001b[1;33m\u001b[0m\u001b[0m\n\u001b[1;32m-> 7123\u001b[1;33m             \u001b[0msort\u001b[0m\u001b[1;33m=\u001b[0m\u001b[0msort\u001b[0m\u001b[1;33m,\u001b[0m\u001b[1;33m\u001b[0m\u001b[1;33m\u001b[0m\u001b[0m\n\u001b[0m\u001b[0;32m   7124\u001b[0m         )\n\u001b[0;32m   7125\u001b[0m \u001b[1;33m\u001b[0m\u001b[0m\n",
      "\u001b[1;32m~\\Anaconda3\\lib\\site-packages\\pandas\\core\\reshape\\concat.py\u001b[0m in \u001b[0;36mconcat\u001b[1;34m(objs, axis, join, join_axes, ignore_index, keys, levels, names, verify_integrity, sort, copy)\u001b[0m\n\u001b[0;32m    256\u001b[0m     )\n\u001b[0;32m    257\u001b[0m \u001b[1;33m\u001b[0m\u001b[0m\n\u001b[1;32m--> 258\u001b[1;33m     \u001b[1;32mreturn\u001b[0m \u001b[0mop\u001b[0m\u001b[1;33m.\u001b[0m\u001b[0mget_result\u001b[0m\u001b[1;33m(\u001b[0m\u001b[1;33m)\u001b[0m\u001b[1;33m\u001b[0m\u001b[1;33m\u001b[0m\u001b[0m\n\u001b[0m\u001b[0;32m    259\u001b[0m \u001b[1;33m\u001b[0m\u001b[0m\n\u001b[0;32m    260\u001b[0m \u001b[1;33m\u001b[0m\u001b[0m\n",
      "\u001b[1;32m~\\Anaconda3\\lib\\site-packages\\pandas\\core\\reshape\\concat.py\u001b[0m in \u001b[0;36mget_result\u001b[1;34m(self)\u001b[0m\n\u001b[0;32m    471\u001b[0m \u001b[1;33m\u001b[0m\u001b[0m\n\u001b[0;32m    472\u001b[0m             new_data = concatenate_block_managers(\n\u001b[1;32m--> 473\u001b[1;33m                 \u001b[0mmgrs_indexers\u001b[0m\u001b[1;33m,\u001b[0m \u001b[0mself\u001b[0m\u001b[1;33m.\u001b[0m\u001b[0mnew_axes\u001b[0m\u001b[1;33m,\u001b[0m \u001b[0mconcat_axis\u001b[0m\u001b[1;33m=\u001b[0m\u001b[0mself\u001b[0m\u001b[1;33m.\u001b[0m\u001b[0maxis\u001b[0m\u001b[1;33m,\u001b[0m \u001b[0mcopy\u001b[0m\u001b[1;33m=\u001b[0m\u001b[0mself\u001b[0m\u001b[1;33m.\u001b[0m\u001b[0mcopy\u001b[0m\u001b[1;33m\u001b[0m\u001b[1;33m\u001b[0m\u001b[0m\n\u001b[0m\u001b[0;32m    474\u001b[0m             )\n\u001b[0;32m    475\u001b[0m             \u001b[1;32mif\u001b[0m \u001b[1;32mnot\u001b[0m \u001b[0mself\u001b[0m\u001b[1;33m.\u001b[0m\u001b[0mcopy\u001b[0m\u001b[1;33m:\u001b[0m\u001b[1;33m\u001b[0m\u001b[1;33m\u001b[0m\u001b[0m\n",
      "\u001b[1;32m~\\Anaconda3\\lib\\site-packages\\pandas\\core\\internals\\managers.py\u001b[0m in \u001b[0;36mconcatenate_block_managers\u001b[1;34m(mgrs_indexers, axes, concat_axis, copy)\u001b[0m\n\u001b[0;32m   2057\u001b[0m         \u001b[0mblocks\u001b[0m\u001b[1;33m.\u001b[0m\u001b[0mappend\u001b[0m\u001b[1;33m(\u001b[0m\u001b[0mb\u001b[0m\u001b[1;33m)\u001b[0m\u001b[1;33m\u001b[0m\u001b[1;33m\u001b[0m\u001b[0m\n\u001b[0;32m   2058\u001b[0m \u001b[1;33m\u001b[0m\u001b[0m\n\u001b[1;32m-> 2059\u001b[1;33m     \u001b[1;32mreturn\u001b[0m \u001b[0mBlockManager\u001b[0m\u001b[1;33m(\u001b[0m\u001b[0mblocks\u001b[0m\u001b[1;33m,\u001b[0m \u001b[0maxes\u001b[0m\u001b[1;33m)\u001b[0m\u001b[1;33m\u001b[0m\u001b[1;33m\u001b[0m\u001b[0m\n\u001b[0m",
      "\u001b[1;32m~\\Anaconda3\\lib\\site-packages\\pandas\\core\\internals\\managers.py\u001b[0m in \u001b[0;36m__init__\u001b[1;34m(self, blocks, axes, do_integrity_check)\u001b[0m\n\u001b[0;32m    145\u001b[0m         \u001b[0mself\u001b[0m\u001b[1;33m.\u001b[0m\u001b[0m_consolidate_check\u001b[0m\u001b[1;33m(\u001b[0m\u001b[1;33m)\u001b[0m\u001b[1;33m\u001b[0m\u001b[1;33m\u001b[0m\u001b[0m\n\u001b[0;32m    146\u001b[0m \u001b[1;33m\u001b[0m\u001b[0m\n\u001b[1;32m--> 147\u001b[1;33m         \u001b[0mself\u001b[0m\u001b[1;33m.\u001b[0m\u001b[0m_rebuild_blknos_and_blklocs\u001b[0m\u001b[1;33m(\u001b[0m\u001b[1;33m)\u001b[0m\u001b[1;33m\u001b[0m\u001b[1;33m\u001b[0m\u001b[0m\n\u001b[0m\u001b[0;32m    148\u001b[0m \u001b[1;33m\u001b[0m\u001b[0m\n\u001b[0;32m    149\u001b[0m     \u001b[1;32mdef\u001b[0m \u001b[0mmake_empty\u001b[0m\u001b[1;33m(\u001b[0m\u001b[0mself\u001b[0m\u001b[1;33m,\u001b[0m \u001b[0maxes\u001b[0m\u001b[1;33m=\u001b[0m\u001b[1;32mNone\u001b[0m\u001b[1;33m)\u001b[0m\u001b[1;33m:\u001b[0m\u001b[1;33m\u001b[0m\u001b[1;33m\u001b[0m\u001b[0m\n",
      "\u001b[1;32m~\\Anaconda3\\lib\\site-packages\\pandas\\core\\internals\\managers.py\u001b[0m in \u001b[0;36m_rebuild_blknos_and_blklocs\u001b[1;34m(self)\u001b[0m\n\u001b[0;32m    226\u001b[0m             \u001b[0mrl\u001b[0m \u001b[1;33m=\u001b[0m \u001b[0mblk\u001b[0m\u001b[1;33m.\u001b[0m\u001b[0mmgr_locs\u001b[0m\u001b[1;33m\u001b[0m\u001b[1;33m\u001b[0m\u001b[0m\n\u001b[0;32m    227\u001b[0m             \u001b[0mnew_blknos\u001b[0m\u001b[1;33m[\u001b[0m\u001b[0mrl\u001b[0m\u001b[1;33m.\u001b[0m\u001b[0mindexer\u001b[0m\u001b[1;33m]\u001b[0m \u001b[1;33m=\u001b[0m \u001b[0mblkno\u001b[0m\u001b[1;33m\u001b[0m\u001b[1;33m\u001b[0m\u001b[0m\n\u001b[1;32m--> 228\u001b[1;33m             \u001b[0mnew_blklocs\u001b[0m\u001b[1;33m[\u001b[0m\u001b[0mrl\u001b[0m\u001b[1;33m.\u001b[0m\u001b[0mindexer\u001b[0m\u001b[1;33m]\u001b[0m \u001b[1;33m=\u001b[0m \u001b[0mnp\u001b[0m\u001b[1;33m.\u001b[0m\u001b[0marange\u001b[0m\u001b[1;33m(\u001b[0m\u001b[0mlen\u001b[0m\u001b[1;33m(\u001b[0m\u001b[0mrl\u001b[0m\u001b[1;33m)\u001b[0m\u001b[1;33m)\u001b[0m\u001b[1;33m\u001b[0m\u001b[1;33m\u001b[0m\u001b[0m\n\u001b[0m\u001b[0;32m    229\u001b[0m \u001b[1;33m\u001b[0m\u001b[0m\n\u001b[0;32m    230\u001b[0m         \u001b[1;32mif\u001b[0m \u001b[1;33m(\u001b[0m\u001b[0mnew_blknos\u001b[0m \u001b[1;33m==\u001b[0m \u001b[1;33m-\u001b[0m\u001b[1;36m1\u001b[0m\u001b[1;33m)\u001b[0m\u001b[1;33m.\u001b[0m\u001b[0many\u001b[0m\u001b[1;33m(\u001b[0m\u001b[1;33m)\u001b[0m\u001b[1;33m:\u001b[0m\u001b[1;33m\u001b[0m\u001b[1;33m\u001b[0m\u001b[0m\n",
      "\u001b[1;31mKeyboardInterrupt\u001b[0m: "
     ]
    }
   ],
   "source": [
    "data = pd.DataFrame([], columns = ['Start_date','Month', 'Date', 'Start_Value', 'Return_Value'])\n",
    "dd_list = ch.Date.tolist()\n",
    "for i in dd_list:\n",
    "    if i > pd.to_datetime('2009-08-31'):\n",
    "        break\n",
    "    sv = 100000.00\n",
    "    dd = ch[ch.Date >= i].reset_index().drop('index', axis = 1)\n",
    "    sd = dd.iloc[0][0]\n",
    "    print(sd.date())\n",
    "    for i in range(1,121):\n",
    "        col = i - 1\n",
    "        sp_value = round(sv * df2.iloc[0,col],2)\n",
    "        dj_value = round(sv * df2.iloc[1,col],2)\n",
    "        hs_value = round(sv * df2.iloc[2,col],2)\n",
    "        ft_value = round(sv * df2.iloc[3,col],2)\n",
    "        agg_value = round(sv * df2.iloc[4,col],2)\n",
    "        gold_value = round(sv * df2.iloc[5,col],2)\n",
    "\n",
    "        sv2 = sv\n",
    "        dt = dd.iloc[i][0]\n",
    "        sp500 = dd.iloc[i][1]\n",
    "        hs = dd.iloc[i][2]\n",
    "        gold = dd.iloc[i][3]\n",
    "        ft = dd.iloc[i][4]\n",
    "        dj = dd.iloc[i][5]\n",
    "        agg = dd.iloc[i][6]\n",
    "\n",
    "        sp500_cash = round(sp_value * (1 + sp500) ,2)\n",
    "\n",
    "        hs_cash = round(hs_value * (1 + hs) ,2)\n",
    "\n",
    "        gold_cash = round(gold_value * (1 + gold) ,2)\n",
    "\n",
    "        ft_cash = round(ft_value * (1 + ft) ,2)\n",
    "\n",
    "        dj_cash = round(dj_value * (1 + dj) ,2)\n",
    "\n",
    "        agg_cash = round(agg_value * (1 + agg) ,2)\n",
    "\n",
    "        sv = round(sum([agg_cash, dj_cash, ft_cash, gold_cash, hs_cash, sp500_cash]),2)\n",
    "        mm = 'Month ' + str(i)\n",
    "        data = data.append({'Start_date':sd,'Month':mm, 'Date': dt, 'Start_Value':sv2, 'Return_Value': sv },ignore_index = True)\n"
   ]
  },
  {
   "cell_type": "code",
   "execution_count": null,
   "metadata": {},
   "outputs": [],
   "source": [
    "data"
   ]
  },
  {
   "cell_type": "code",
   "execution_count": null,
   "metadata": {},
   "outputs": [],
   "source": [
    "data.to_csv('benchmark_120months.csv')"
   ]
  },
  {
   "cell_type": "code",
   "execution_count": null,
   "metadata": {},
   "outputs": [],
   "source": [
    "### Mean Return\n",
    "print('Mean Return 120 Month:', round(data[data['Month'] == 'Month 120']['Return_Value'].mean(),2))"
   ]
  },
  {
   "cell_type": "code",
   "execution_count": null,
   "metadata": {},
   "outputs": [],
   "source": [
    "### Min Return\n",
    "get_min(data, 'Month 120')"
   ]
  },
  {
   "cell_type": "code",
   "execution_count": null,
   "metadata": {},
   "outputs": [],
   "source": [
    "### Max Return\n",
    "get_max(data, 'Month 120')"
   ]
  },
  {
   "cell_type": "code",
   "execution_count": null,
   "metadata": {},
   "outputs": [],
   "source": [
    "### Top 10\n",
    "top_return(data, 'Month 120', 10)"
   ]
  },
  {
   "cell_type": "code",
   "execution_count": null,
   "metadata": {},
   "outputs": [],
   "source": [
    "### Bottom 10\n",
    "bottom_return(data, 'Month 120', 10)"
   ]
  },
  {
   "cell_type": "markdown",
   "metadata": {},
   "source": [
    "### 60 months 60 - 65"
   ]
  },
  {
   "cell_type": "code",
   "execution_count": null,
   "metadata": {},
   "outputs": [],
   "source": [
    "data2 = pd.DataFrame([], columns = ['Start_date','Month', 'Date', 'Start_Value', 'Return_Value'])\n",
    "dd_list = ch.Date.tolist()\n",
    "for i in dd_list:\n",
    "    if i > pd.to_datetime('2014-08-31'):\n",
    "        break\n",
    "    sv = 100000.00\n",
    "    dd = ch[ch.Date >= i].reset_index().drop('index', axis = 1)\n",
    "    sd = dd.iloc[0][0]\n",
    "    print(sd.date())\n",
    "    for i in range(1,61):\n",
    "        col = i - 1\n",
    "        sp_value = round(sv * df2.iloc[0,col],2)\n",
    "        dj_value = round(sv * df2.iloc[1,col],2)\n",
    "        hs_value = round(sv * df2.iloc[2,col],2)\n",
    "        ft_value = round(sv * df2.iloc[3,col],2)\n",
    "        agg_value = round(sv * df2.iloc[4,col],2)\n",
    "        gold_value = round(sv * df2.iloc[5,col],2)\n",
    "\n",
    "        sv2 = sv\n",
    "        dt = dd.iloc[i][0]\n",
    "        sp500 = dd.iloc[i][1]\n",
    "        hs = dd.iloc[i][2]\n",
    "        gold = dd.iloc[i][3]\n",
    "        ft = dd.iloc[i][4]\n",
    "        dj = dd.iloc[i][5]\n",
    "        agg = dd.iloc[i][6]\n",
    "\n",
    "        sp500_cash = round(sp_value * (1 + sp500) ,2)\n",
    "\n",
    "        hs_cash = round(hs_value * (1 + hs) ,2)\n",
    "\n",
    "        gold_cash = round(gold_value * (1 + gold) ,2)\n",
    "\n",
    "        ft_cash = round(ft_value * (1 + ft) ,2)\n",
    "\n",
    "        dj_cash = round(dj_value * (1 + dj) ,2)\n",
    "\n",
    "        agg_cash = round(agg_value * (1 + agg) ,2)\n",
    "\n",
    "        sv = round(sum([agg_cash, dj_cash, ft_cash, gold_cash, hs_cash, sp500_cash]),2)\n",
    "        mm = 'Month ' + str(i)\n",
    "        data2 = data2.append({'Start_date':sd,'Month':mm, 'Date': dt, 'Start_Value':sv2, 'Return_Value': sv },ignore_index = True)"
   ]
  },
  {
   "cell_type": "code",
   "execution_count": null,
   "metadata": {},
   "outputs": [],
   "source": [
    "data2"
   ]
  },
  {
   "cell_type": "code",
   "execution_count": null,
   "metadata": {},
   "outputs": [],
   "source": [
    "data2.to_csv('benchmark60_65_60months.csv')"
   ]
  },
  {
   "cell_type": "code",
   "execution_count": null,
   "metadata": {},
   "outputs": [],
   "source": [
    "### Mean Return \n",
    "print('Mean Return 60-65:' , round(data2[data2.Month == 'Month 60']['Return_Value'].mean(),2))"
   ]
  },
  {
   "cell_type": "code",
   "execution_count": null,
   "metadata": {},
   "outputs": [],
   "source": [
    "### Min Return\n",
    "get_min(data2, 'Month 60')"
   ]
  },
  {
   "cell_type": "code",
   "execution_count": null,
   "metadata": {},
   "outputs": [],
   "source": [
    "#### Max Return \n",
    "get_max(data2, 'Month 60')"
   ]
  },
  {
   "cell_type": "code",
   "execution_count": null,
   "metadata": {},
   "outputs": [],
   "source": [
    "### Top 10\n",
    "top_return(data2, 'Month 60', 10)"
   ]
  },
  {
   "cell_type": "code",
   "execution_count": null,
   "metadata": {},
   "outputs": [],
   "source": [
    "### Bottom 10\n",
    "bottom_return(data2, 'Month 60', 10)"
   ]
  },
  {
   "cell_type": "markdown",
   "metadata": {},
   "source": [
    "### 60 Months 65 - 70"
   ]
  },
  {
   "cell_type": "code",
   "execution_count": null,
   "metadata": {},
   "outputs": [],
   "source": [
    "data3 = pd.DataFrame([], columns = ['Start_date','Month', 'Date', 'Start_Value', 'Return_Value'])\n",
    "dd_list = ch.Date.tolist()\n",
    "for i in dd_list:\n",
    "    if i > pd.to_datetime('2014-08-31'):\n",
    "        break\n",
    "    sv = 100000.00\n",
    "    dd = ch[ch.Date >= i].reset_index().drop('index', axis = 1)\n",
    "    sd = dd.iloc[0][0]\n",
    "    print(sd.date())\n",
    "    for i in range(1,61):\n",
    "        col = i + 59\n",
    "        sp_value = round(sv * df2.iloc[0,col],2)\n",
    "        dj_value = round(sv * df2.iloc[1,col],2)\n",
    "        hs_value = round(sv * df2.iloc[2,col],2)\n",
    "        ft_value = round(sv * df2.iloc[3,col],2)\n",
    "        agg_value = round(sv * df2.iloc[4,col],2)\n",
    "        gold_value = round(sv * df2.iloc[5,col],2)\n",
    "\n",
    "        sv2 = sv\n",
    "        dt = dd.iloc[i][0]\n",
    "        sp500 = dd.iloc[i][1]\n",
    "        hs = dd.iloc[i][2]\n",
    "        gold = dd.iloc[i][3]\n",
    "        ft = dd.iloc[i][4]\n",
    "        dj = dd.iloc[i][5]\n",
    "        agg = dd.iloc[i][6]\n",
    "\n",
    "        sp500_cash = round(sp_value * (1 + sp500) ,2)\n",
    "\n",
    "        hs_cash = round(hs_value * (1 + hs) ,2)\n",
    "\n",
    "        gold_cash = round(gold_value * (1 + gold) ,2)\n",
    "\n",
    "        ft_cash = round(ft_value * (1 + ft) ,2)\n",
    "\n",
    "        dj_cash = round(dj_value * (1 + dj) ,2)\n",
    "\n",
    "        agg_cash = round(agg_value * (1 + agg) ,2)\n",
    "\n",
    "        sv = round(sum([agg_cash, dj_cash, ft_cash, gold_cash, hs_cash, sp500_cash]),2)\n",
    "        mm = 'Month ' + str(i)\n",
    "        data3 = data3.append({'Start_date':sd,'Month':mm, 'Date': dt, 'Start_Value':sv2, 'Return_Value': sv },ignore_index = True)"
   ]
  },
  {
   "cell_type": "code",
   "execution_count": null,
   "metadata": {},
   "outputs": [],
   "source": [
    "data3"
   ]
  },
  {
   "cell_type": "code",
   "execution_count": null,
   "metadata": {},
   "outputs": [],
   "source": [
    "data3.to_csv('benchmark65_70_60months.csv')"
   ]
  },
  {
   "cell_type": "code",
   "execution_count": null,
   "metadata": {},
   "outputs": [],
   "source": [
    "### Mean Return\n",
    "print('Mean Return 65-70:' , round(data3[data3.Month == 'Month 60']['Return_Value'].mean(),2))"
   ]
  },
  {
   "cell_type": "code",
   "execution_count": null,
   "metadata": {},
   "outputs": [],
   "source": [
    "### Min Return\n",
    "get_min(data3, 'Month 60')"
   ]
  },
  {
   "cell_type": "code",
   "execution_count": null,
   "metadata": {},
   "outputs": [],
   "source": [
    "### Max Return\n",
    "get_max(data3, 'Month 60')"
   ]
  },
  {
   "cell_type": "code",
   "execution_count": null,
   "metadata": {},
   "outputs": [],
   "source": [
    "### Top 10\n",
    "top_return(data3, 'Month 60', 10)"
   ]
  },
  {
   "cell_type": "code",
   "execution_count": null,
   "metadata": {},
   "outputs": [],
   "source": [
    "### Bottom 10\n",
    "bottom_return(data3, 'Month 60', 10)"
   ]
  },
  {
   "cell_type": "code",
   "execution_count": null,
   "metadata": {},
   "outputs": [],
   "source": []
  }
 ],
 "metadata": {
  "kernelspec": {
   "display_name": "Python 3",
   "language": "python",
   "name": "python3"
  },
  "language_info": {
   "codemirror_mode": {
    "name": "ipython",
    "version": 3
   },
   "file_extension": ".py",
   "mimetype": "text/x-python",
   "name": "python",
   "nbconvert_exporter": "python",
   "pygments_lexer": "ipython3",
   "version": "3.7.4"
  }
 },
 "nbformat": 4,
 "nbformat_minor": 2
}
